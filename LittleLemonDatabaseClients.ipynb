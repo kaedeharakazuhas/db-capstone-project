{
 "cells": [
  {
   "cell_type": "code",
   "execution_count": 1,
   "metadata": {},
   "outputs": [
    {
     "name": "stdout",
     "output_type": "stream",
     "text": [
      "Requirement already satisfied: mysql-connector-python in /Users/carolinaguerrero/.pyenv/versions/3.11.1/lib/python3.11/site-packages (8.0.32)\n",
      "Requirement already satisfied: protobuf<=3.20.3,>=3.11.0 in /Users/carolinaguerrero/.pyenv/versions/3.11.1/lib/python3.11/site-packages (from mysql-connector-python) (3.20.3)\n",
      "\n",
      "\u001b[1m[\u001b[0m\u001b[34;49mnotice\u001b[0m\u001b[1;39;49m]\u001b[0m\u001b[39;49m A new release of pip is available: \u001b[0m\u001b[31;49m23.0.1\u001b[0m\u001b[39;49m -> \u001b[0m\u001b[32;49m23.1\u001b[0m\n",
      "\u001b[1m[\u001b[0m\u001b[34;49mnotice\u001b[0m\u001b[1;39;49m]\u001b[0m\u001b[39;49m To update, run: \u001b[0m\u001b[32;49mpip install --upgrade pip\u001b[0m\n",
      "Installing MySQL Connector API...\n"
     ]
    }
   ],
   "source": [
    "!pip install mysql-connector-python\n",
    "\n",
    "print(\"Installing MySQL Connector API...\")"
   ]
  },
  {
   "cell_type": "code",
   "execution_count": 10,
   "metadata": {},
   "outputs": [
    {
     "name": "stdout",
     "output_type": "stream",
     "text": [
      "Importing connector under the alias 'connector'...\n"
     ]
    }
   ],
   "source": [
    "print(\"Importing connector under the alias 'connector'...\")\n",
    "\n",
    "import mysql.connector as connector"
   ]
  },
  {
   "cell_type": "code",
   "execution_count": 20,
   "metadata": {},
   "outputs": [
    {
     "name": "stdout",
     "output_type": "stream",
     "text": [
      "Verifying...\n",
      "Succesfully connected to the MySQL database.\n"
     ]
    }
   ],
   "source": [
    "# Connecting to Little Lemon Database\n",
    "\n",
    "print(\"Verifying...\")\n",
    "\n",
    "connection = connector.connect(\n",
    "    user = \"root\",\n",
    "    password = \"yaemiko47\",\n",
    "    database = \"little_lemon_capstone\"\n",
    ")\n",
    "\n",
    "print(\"Succesfully connected to the MySQL database.\")"
   ]
  },
  {
   "cell_type": "code",
   "execution_count": 18,
   "metadata": {},
   "outputs": [
    {
     "name": "stdout",
     "output_type": "stream",
     "text": [
      "('Bookings',)\n",
      "('CustomerDetails',)\n",
      "('Menu',)\n",
      "('MenuItems',)\n",
      "('OrderDeliveryStatus',)\n",
      "('Orders',)\n",
      "('ordersview',)\n",
      "('StaffInformation',)\n"
     ]
    }
   ],
   "source": [
    "# Query all tables in little_lemon_capstone\n",
    "\n",
    "# Define the cursor\n",
    "cursor = connection.cursor()\n",
    "\n",
    "show_tables_query = \"\"\"SHOW TABLES;\"\"\"\n",
    "cursor.execute(show_tables_query)\n",
    "\n",
    "results = cursor.fetchall()\n",
    "for result in results:\n",
    "    print(result)"
   ]
  },
  {
   "cell_type": "code",
   "execution_count": 26,
   "metadata": {},
   "outputs": [
    {
     "name": "stdout",
     "output_type": "stream",
     "text": [
      "Finding customers who spent $60 or more during Little Lemon's promotional period...\n",
      "\n",
      "('CustomerName', 'ContactDetails')\n",
      "('Vanessa McCarthy', 3)\n",
      "('Joakim Iversen', 2)\n",
      "('Amy White', 1)\n",
      "('Marcos Romero', 4)\n",
      "('Hiroki Yamane', 5)\n",
      "('Anna Iversen', 6)\n",
      "('Logan Smith', 8)\n",
      "('Daisy Lee', 7)\n"
     ]
    }
   ],
   "source": [
    "# Full name and contact details for customers who placed an order of $60+ for a promotional campaign\n",
    "\n",
    "print(\"Finding customers who spent $60 or more during Little Lemon's promotional period...\\n\")\n",
    "\n",
    "customer_name_cost = \"\"\"SELECT CustomerDetails.CustomerName, CustomerDetails.ContactDetails\n",
    "FROM CustomerDetails\n",
    "INNER JOIN Orders\n",
    "ON CustomerDetails.CustomerID = Orders.CustomerID\n",
    "WHERE Orders.TotalCost > 60.00;\"\"\"\n",
    "\n",
    "cursor.execute(customer_name_cost)\n",
    "\n",
    "column_name = cursor.column_names\n",
    "print(column_name)\n",
    "\n",
    "customer_results = cursor.fetchall()\n",
    "for r in customer_results:\n",
    "    print(r)"
   ]
  }
 ],
 "metadata": {
  "kernelspec": {
   "display_name": "Python 3",
   "language": "python",
   "name": "python3"
  },
  "language_info": {
   "codemirror_mode": {
    "name": "ipython",
    "version": 3
   },
   "file_extension": ".py",
   "mimetype": "text/x-python",
   "name": "python",
   "nbconvert_exporter": "python",
   "pygments_lexer": "ipython3",
   "version": "3.11.1"
  },
  "orig_nbformat": 4
 },
 "nbformat": 4,
 "nbformat_minor": 2
}
